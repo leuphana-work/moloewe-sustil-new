{
 "cells": [
  {
   "cell_type": "code",
   "execution_count": 3,
   "metadata": {},
   "outputs": [],
   "source": [
    "import geopandas as gpd\n",
    "import plotly.express as px\n",
    "import pandas as pd\n",
    "import json"
   ]
  },
  {
   "cell_type": "code",
   "execution_count": 2,
   "metadata": {},
   "outputs": [],
   "source": [
    "def convert_shp_geojson(shp_path):\n",
    "    \"\"\"Create and save GeoJSON file from SHP file to the same directory.\n",
    "\n",
    "    Args:\n",
    "        shp_path (str): Path of SHP file\n",
    "    \"\"\"    \n",
    "\n",
    "    # Convert shapefile to geojson\n",
    "\n",
    "    shp_path = \"prototype/WGS84/landnutzung_dissolve.shp\"\n",
    "    map_df = gpd.read_file(shp_path)\n",
    "\n",
    "    # Write GeoJSON file, adding index number to match data frame later\n",
    "\n",
    "    geojson_path = geojson_path = shp_path.replace(\".shp\", \".json\")\n",
    "\n",
    "    map_df.to_file(geojson_path, driver=\"GeoJSON\", index=1)"
   ]
  }
 ],
 "metadata": {
  "interpreter": {
   "hash": "37c3ab070b403957832bb7bf918f0a0a10189773359c09f308639c071f617683"
  },
  "kernelspec": {
   "display_name": "Python 3.9.7 ('torchlab')",
   "language": "python",
   "name": "python3"
  },
  "language_info": {
   "codemirror_mode": {
    "name": "ipython",
    "version": 3
   },
   "file_extension": ".py",
   "mimetype": "text/x-python",
   "name": "python",
   "nbconvert_exporter": "python",
   "pygments_lexer": "ipython3",
   "version": "3.8.0"
  },
  "orig_nbformat": 4
 },
 "nbformat": 4,
 "nbformat_minor": 2
}
