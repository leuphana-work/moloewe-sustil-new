{
 "cells": [
  {
   "cell_type": "code",
   "execution_count": 1,
   "metadata": {},
   "outputs": [],
   "source": [
    "import geopandas as gpd\n",
    "import json\n",
    "import pandas as pd"
   ]
  },
  {
   "cell_type": "code",
   "execution_count": 21,
   "metadata": {},
   "outputs": [],
   "source": [
    "# Create subset from flooded areas, for testing the mapbox on MoLöWe server\n",
    "# The big file seems to not save when put in Slides on MoLöWe\n",
    "\n",
    "# Select number of land use types to save in subset (1 - 24)\n",
    "number = 4\n",
    "\n",
    "# Load in SHP files\n",
    "map_df = gpd.read_file(\"prototype/WGS84/landnutzung_dissolve.shp\")\n",
    "\n",
    "# Get land use labels & subset\n",
    "land_use = map_df[\"Nutzungsar\"].unique().tolist()[0:number]\n",
    "submap_df = map_df[map_df[\"Nutzungsar\"].isin(land_use)]\n",
    "\n",
    "# Save to geojson file\n",
    "submap_df.to_file(f\"D:\\Codes\\leuphana-work\\moloewe-sustil\\data\\sub_{number}_landnutzung.json\", driver=\"GeoJSON\", index=1)\n"
   ]
  }
 ],
 "metadata": {
  "interpreter": {
   "hash": "113ad79a79c4dcaf18b48a946dd1be8140d7e9a8cd5cb20995ec767991862847"
  },
  "kernelspec": {
   "display_name": "Python 3.8.0 ('sustil_python_3.8')",
   "language": "python",
   "name": "python3"
  },
  "language_info": {
   "codemirror_mode": {
    "name": "ipython",
    "version": 3
   },
   "file_extension": ".py",
   "mimetype": "text/x-python",
   "name": "python",
   "nbconvert_exporter": "python",
   "pygments_lexer": "ipython3",
   "version": "3.8.0"
  },
  "orig_nbformat": 4
 },
 "nbformat": 4,
 "nbformat_minor": 2
}
